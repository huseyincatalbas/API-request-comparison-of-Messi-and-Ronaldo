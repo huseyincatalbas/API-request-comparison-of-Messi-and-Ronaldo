{
 "cells": [
  {
   "cell_type": "markdown",
   "metadata": {},
   "source": [
    "##### Ad-Soyad = Hüseyin ÇATALBAŞ\n",
    "##### E-posta = hcatalbas@ceng.ktu.edu.tr\n",
    "##### Proje = Comparison of Messi and Ronaldo on the radar chart created with API request\n"
   ]
  },
  {
   "cell_type": "markdown",
   "metadata": {},
   "source": [
    "# ---------------------------------------------------------------------------------------------------------------"
   ]
  },
  {
   "cell_type": "markdown",
   "metadata": {},
   "source": [
    "# API request ile oluşturulmuş radar chart üzerinde messi ve ronaldonun tane futbolcunun karşılaştırması"
   ]
  },
  {
   "cell_type": "code",
   "execution_count": 1,
   "metadata": {},
   "outputs": [],
   "source": [
    "import requests\n",
    "from PIL import Image\n",
    "from io import BytesIO\n",
    "class Futbolcu():\n",
    "    def __init__(self, isim, hiz, sut, pas, top_surme, defans, fizik):\n",
    "        self.isim=isim\n",
    "        self.hiz=hiz\n",
    "        self.sut=sut\n",
    "        self.pas=pas\n",
    "        self.top_surme=top_surme\n",
    "        self.defans=defans\n",
    "        self.fizik=fizik\n",
    "        \n",
    "    def yetenek_hazirla(self):\n",
    "        return ','.join([\n",
    "            str(self.hiz),\n",
    "            str(self.sut),\n",
    "            str(self.pas),\n",
    "            str(self.top_surme),\n",
    "            str(self.defans),\n",
    "            str(self.fizik),\n",
    "            str(self.hiz)\n",
    "    #radar chart'ın bitiş noktası başlangıç noktası olduğu için \n",
    "    #son değerin kendisine gelmesi gerekiyor\n",
    "        ])       \n",
    "    \n",
    "    def yetenek_kiyaslama_goster(self, hedef_futbolcu):\n",
    "        grafik_url='https://image-charts.com/chart'\n",
    "        payload={\n",
    "            'chco':'3092de,027182',#renk kodları her bir futbolcu için 3092de=koyu mavi,027182=gri\n",
    "            'chd':'t:'+ self.yetenek_hazirla() + '|' + hedef_futbolcu.yetenek_hazirla(),#özellik değerleri\n",
    "            'chd1': self.isim + '|' + hedef_futbolcu.isim,#futbolcu isimleri\n",
    "            'chdlp':'b',#\n",
    "            'chs':'550x500',#tuval boyutu\n",
    "            'cht':'r',#radar chart olduğunu belirtir.\n",
    "            'chtt':'Futbolcu Özellikleri',#Konu isimlendirme\n",
    "            'chl':'hız|sut|pas|top_surus|defans|fizik',#özellik adlandırma\n",
    "            'chxl':'0:|0|20|40|60|80|100',#özellikleri alabileceği değerler\n",
    "            'chxt':'x',#x eksenine aktarma\n",
    "            'chxr':'0,0.0,100.0',#alabileceği minumum ve maximum değerler\n",
    "            'chm':'B,AAAAAABB,0,0,0|B,0073CFBB,1,0,0'#futbolcu değerlerinin oluşturduğu alanların renk kodu\n",
    "            \n",
    "        }\n",
    "        response=requests.post(grafik_url, data=payload)\n",
    "        image=Image.open(BytesIO(response.content))\n",
    "        image.show()\n",
    "ronaldo=Futbolcu('Ronaldo', 89, 93, 81, 89, 35, 77)\n",
    "messi=Futbolcu('Messi', 85, 92, 91, 95, 38, 65)\n",
    "\n",
    "ronaldo.yetenek_kiyaslama_goster(messi)#ronaldo=gri renk, messi=koyu mavi renk"
   ]
  },
  {
   "cell_type": "code",
   "execution_count": null,
   "metadata": {},
   "outputs": [],
   "source": []
  }
 ],
 "metadata": {
  "kernelspec": {
   "display_name": "Python 3",
   "language": "python",
   "name": "python3"
  },
  "language_info": {
   "codemirror_mode": {
    "name": "ipython",
    "version": 3
   },
   "file_extension": ".py",
   "mimetype": "text/x-python",
   "name": "python",
   "nbconvert_exporter": "python",
   "pygments_lexer": "ipython3",
   "version": "3.8.5"
  }
 },
 "nbformat": 4,
 "nbformat_minor": 4
}
